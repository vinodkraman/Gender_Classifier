{
  "nbformat": 4,
  "nbformat_minor": 0,
  "metadata": {
    "colab": {
      "name": "model_conversion.ipynb",
      "provenance": [],
      "collapsed_sections": [],
      "toc_visible": true
    },
    "kernelspec": {
      "name": "python3",
      "display_name": "Python 3"
    }
  },
  "cells": [
    {
      "cell_type": "markdown",
      "metadata": {
        "id": "-DJhzxGOaFBT"
      },
      "source": [
        "# Model Conversion\n",
        "This notebook builds a Tensorflow version of the pre-trained VGG Face Descriptor Model by loading its extracted weights from a .h5 file. Please update src_path with your path to the extracted weights for the VGG Face Descriptor."
      ]
    },
    {
      "cell_type": "code",
      "metadata": {
        "id": "DUymxSnb1nU8",
        "colab": {
          "base_uri": "https://localhost:8080/",
          "height": 122
        },
        "outputId": "0aa04876-944b-47da-9cf6-50558f4c605a"
      },
      "source": [
        "#mount google drive - necessary if weights are in the drive\n",
        "from google.colab import drive\n",
        "drive.mount('/content/drive')"
      ],
      "execution_count": null,
      "outputs": [
        {
          "output_type": "stream",
          "text": [
            "Go to this URL in a browser: https://accounts.google.com/o/oauth2/auth?client_id=947318989803-6bn6qk8qdgf4n4g3pfee6491hc0brc4i.apps.googleusercontent.com&redirect_uri=urn%3aietf%3awg%3aoauth%3a2.0%3aoob&scope=email%20https%3a%2f%2fwww.googleapis.com%2fauth%2fdocs.test%20https%3a%2f%2fwww.googleapis.com%2fauth%2fdrive%20https%3a%2f%2fwww.googleapis.com%2fauth%2fdrive.photos.readonly%20https%3a%2f%2fwww.googleapis.com%2fauth%2fpeopleapi.readonly&response_type=code\n",
            "\n",
            "Enter your authorization code:\n",
            "··········\n",
            "Mounted at /content/drive\n"
          ],
          "name": "stdout"
        }
      ]
    },
    {
      "cell_type": "code",
      "metadata": {
        "id": "Xf2wkv3eZ72t"
      },
      "source": [
        "import tensorflow as tf\n",
        "from tensorflow.keras import datasets, layers, models\n",
        "import matplotlib.pyplot as plt"
      ],
      "execution_count": null,
      "outputs": []
    },
    {
      "cell_type": "code",
      "metadata": {
        "id": "jmZ0bGbbl_Pb"
      },
      "source": [
        "src_path = \"/content/drive/My Drive/weights_full.h5\""
      ],
      "execution_count": null,
      "outputs": []
    },
    {
      "cell_type": "code",
      "metadata": {
        "id": "P-vLmO5KygbX",
        "colab": {
          "base_uri": "https://localhost:8080/",
          "height": 969
        },
        "outputId": "0083afee-ac0c-4d38-d717-5266f35cea6f"
      },
      "source": [
        "model = models.Sequential()\n",
        "model.add(layers.Conv2D(64, (3, 3), padding= \"same\", activation='relu', input_shape=(224, 224, 3)))\n",
        "model.add(layers.Conv2D(64, (3, 3),padding= \"same\", activation='relu'))\n",
        "model.add(layers.MaxPooling2D(2, 2))\n",
        "model.add(layers.Conv2D(128, (3, 3), padding= \"same\", activation='relu'))\n",
        "model.add(layers.Conv2D(128, (3, 3), padding= \"same\", activation='relu'))\n",
        "model.add(layers.MaxPooling2D(2, 2))\n",
        "model.add(layers.Conv2D(256, (3, 3), padding= \"same\", activation='relu'))\n",
        "model.add(layers.Conv2D(256, (3, 3), padding= \"same\", activation='relu'))\n",
        "model.add(layers.Conv2D(256, (3, 3), padding= \"same\", activation='relu'))\n",
        "model.add(layers.MaxPooling2D(2, 2))\n",
        "model.add(layers.Conv2D(512, (3, 3), padding= \"same\", activation='relu'))\n",
        "model.add(layers.Conv2D(512, (3, 3), padding= \"same\", activation='relu'))\n",
        "model.add(layers.Conv2D(512, (3, 3), padding= \"same\", activation='relu'))\n",
        "model.add(layers.MaxPooling2D(2, 2))\n",
        "model.add(layers.Conv2D(512, (3, 3), padding= \"same\", activation='relu'))\n",
        "model.add(layers.Conv2D(512, (3, 3), padding= \"same\", activation='relu'))\n",
        "model.add(layers.Conv2D(512, (3, 3), padding= \"same\", activation='relu'))\n",
        "model.add(layers.MaxPooling2D(2, 2))\n",
        "model.add(layers.Flatten())\n",
        "model.add(layers.Dense(4096, activation= \"relu\"))\n",
        "model.add(layers.Dropout(0.5))\n",
        "model.add(layers.Dense(4096, activation= \"relu\"))\n",
        "model.add(layers.Dropout(0.5))\n",
        "model.add(layers.Dense(2622, activation= \"softmax\"))\n",
        "model.summary()\n",
        "\n"
      ],
      "execution_count": null,
      "outputs": [
        {
          "output_type": "stream",
          "text": [
            "Model: \"sequential\"\n",
            "_________________________________________________________________\n",
            "Layer (type)                 Output Shape              Param #   \n",
            "=================================================================\n",
            "conv2d (Conv2D)              (None, 224, 224, 64)      1792      \n",
            "_________________________________________________________________\n",
            "conv2d_1 (Conv2D)            (None, 224, 224, 64)      36928     \n",
            "_________________________________________________________________\n",
            "max_pooling2d (MaxPooling2D) (None, 112, 112, 64)      0         \n",
            "_________________________________________________________________\n",
            "conv2d_2 (Conv2D)            (None, 112, 112, 128)     73856     \n",
            "_________________________________________________________________\n",
            "conv2d_3 (Conv2D)            (None, 112, 112, 128)     147584    \n",
            "_________________________________________________________________\n",
            "max_pooling2d_1 (MaxPooling2 (None, 56, 56, 128)       0         \n",
            "_________________________________________________________________\n",
            "conv2d_4 (Conv2D)            (None, 56, 56, 256)       295168    \n",
            "_________________________________________________________________\n",
            "conv2d_5 (Conv2D)            (None, 56, 56, 256)       590080    \n",
            "_________________________________________________________________\n",
            "conv2d_6 (Conv2D)            (None, 56, 56, 256)       590080    \n",
            "_________________________________________________________________\n",
            "max_pooling2d_2 (MaxPooling2 (None, 28, 28, 256)       0         \n",
            "_________________________________________________________________\n",
            "conv2d_7 (Conv2D)            (None, 28, 28, 512)       1180160   \n",
            "_________________________________________________________________\n",
            "conv2d_8 (Conv2D)            (None, 28, 28, 512)       2359808   \n",
            "_________________________________________________________________\n",
            "conv2d_9 (Conv2D)            (None, 28, 28, 512)       2359808   \n",
            "_________________________________________________________________\n",
            "max_pooling2d_3 (MaxPooling2 (None, 14, 14, 512)       0         \n",
            "_________________________________________________________________\n",
            "conv2d_10 (Conv2D)           (None, 14, 14, 512)       2359808   \n",
            "_________________________________________________________________\n",
            "conv2d_11 (Conv2D)           (None, 14, 14, 512)       2359808   \n",
            "_________________________________________________________________\n",
            "conv2d_12 (Conv2D)           (None, 14, 14, 512)       2359808   \n",
            "_________________________________________________________________\n",
            "max_pooling2d_4 (MaxPooling2 (None, 7, 7, 512)         0         \n",
            "_________________________________________________________________\n",
            "flatten (Flatten)            (None, 25088)             0         \n",
            "_________________________________________________________________\n",
            "dense (Dense)                (None, 4096)              102764544 \n",
            "_________________________________________________________________\n",
            "dropout (Dropout)            (None, 4096)              0         \n",
            "_________________________________________________________________\n",
            "dense_1 (Dense)              (None, 4096)              16781312  \n",
            "_________________________________________________________________\n",
            "dropout_1 (Dropout)          (None, 4096)              0         \n",
            "_________________________________________________________________\n",
            "dense_2 (Dense)              (None, 2622)              10742334  \n",
            "=================================================================\n",
            "Total params: 145,002,878\n",
            "Trainable params: 145,002,878\n",
            "Non-trainable params: 0\n",
            "_________________________________________________________________\n"
          ],
          "name": "stdout"
        }
      ]
    },
    {
      "cell_type": "code",
      "metadata": {
        "id": "OXYNJLSF1G9W",
        "colab": {
          "base_uri": "https://localhost:8080/",
          "height": 1000
        },
        "outputId": "f3f8c0ca-b3c3-4f73-b063-e23ea8b18a62"
      },
      "source": [
        "#load weights\n",
        "model.load_weights(src_path)\n",
        "weights, biases = model.layers[0].get_weights()\n",
        "\n",
        "#check that weights have been uploaded\n",
        "print(weights)\n",
        "model.summary()"
      ],
      "execution_count": null,
      "outputs": [
        {
          "output_type": "stream",
          "text": [
            "[[[[ 0.02418656  0.05323381 -0.01099186 ... -0.04440259  0.01828277\n",
            "    -0.1007985 ]\n",
            "   [ 0.07218545  0.16628309 -0.0017996  ... -0.05000973  0.11803459\n",
            "    -0.08741822]\n",
            "   [ 0.06460536 -0.13839327  0.0071591  ...  0.08747088 -0.19605596\n",
            "    -0.06391917]]\n",
            "\n",
            "  [[-0.00369529  0.04856608 -0.00928699 ... -0.03097921  0.02612239\n",
            "    -0.06614216]\n",
            "   [ 0.03982019  0.15625596 -0.00034941 ... -0.03360835  0.12642314\n",
            "    -0.0468199 ]\n",
            "   [ 0.03615239 -0.14774987  0.00970824 ...  0.10209309 -0.18954486\n",
            "    -0.03028544]]\n",
            "\n",
            "  [[-0.05865374  0.02274405 -0.01561985 ... -0.03965216  0.023479\n",
            "    -0.0454097 ]\n",
            "   [-0.02589355  0.13388738 -0.00584445 ... -0.04295931  0.12734956\n",
            "    -0.02332257]\n",
            "   [-0.02391577 -0.16854998  0.00030793 ...  0.09089436 -0.1869799\n",
            "    -0.01098787]]]\n",
            "\n",
            "\n",
            " [[[ 0.09105629  0.06526305  0.03294564 ...  0.01903132  0.03626859\n",
            "     0.00122249]\n",
            "   [ 0.15534328  0.16949905  0.0533126  ...  0.03873022  0.1329108\n",
            "     0.0454465 ]\n",
            "   [ 0.14536376 -0.14089675  0.0583757  ...  0.17087379 -0.18975356\n",
            "     0.05408803]]\n",
            "\n",
            "  [[ 0.06724248  0.05838969  0.03887307 ...  0.03939814  0.04850656\n",
            "     0.05318998]\n",
            "   [ 0.1277487   0.15933235  0.06011286 ...  0.06439138  0.14370988\n",
            "     0.10201738]\n",
            "   [ 0.11747025 -0.1545163   0.0642212  ...  0.19165504 -0.1797316\n",
            "     0.10393153]]\n",
            "\n",
            "  [[ 0.00088024  0.02861816  0.02900027 ...  0.02418537  0.04541681\n",
            "     0.0651447 ]\n",
            "   [ 0.05155784  0.1328717   0.04782289 ...  0.04644793  0.1402954\n",
            "     0.1167126 ]\n",
            "   [ 0.04764634 -0.17800276  0.05248957 ...  0.17530799 -0.17990479\n",
            "     0.11502104]]]\n",
            "\n",
            "\n",
            " [[[ 0.10218396  0.04486378  0.0554294  ...  0.05593797  0.03954967\n",
            "     0.0839686 ]\n",
            "   [ 0.17229494  0.15134656  0.0800761  ...  0.08379142  0.13971494\n",
            "     0.14672667]\n",
            "   [ 0.15014488 -0.15296043  0.07988953 ...  0.20108095 -0.17566246\n",
            "     0.14290074]]\n",
            "\n",
            "  [[ 0.08932148  0.03846765  0.06915443 ...  0.0808704   0.05025499\n",
            "     0.14028537]\n",
            "   [ 0.15139541  0.14203708  0.0927695  ...  0.11131478  0.14938714\n",
            "     0.20837776]\n",
            "   [ 0.13357459 -0.16286954  0.09368873 ...  0.22568147 -0.16580877\n",
            "     0.19664899]]\n",
            "\n",
            "  [[ 0.02647532  0.01503086  0.05705538 ...  0.06150354  0.04292224\n",
            "     0.13773572]\n",
            "   [ 0.07995326  0.11933951  0.07950187 ...  0.08947401  0.1449352\n",
            "     0.2080933 ]\n",
            "   [ 0.07144655 -0.1783656   0.07910104 ...  0.20043166 -0.16544703\n",
            "     0.19246301]]]]\n",
            "Model: \"sequential\"\n",
            "_________________________________________________________________\n",
            "Layer (type)                 Output Shape              Param #   \n",
            "=================================================================\n",
            "conv2d (Conv2D)              (None, 224, 224, 64)      1792      \n",
            "_________________________________________________________________\n",
            "conv2d_1 (Conv2D)            (None, 224, 224, 64)      36928     \n",
            "_________________________________________________________________\n",
            "max_pooling2d (MaxPooling2D) (None, 112, 112, 64)      0         \n",
            "_________________________________________________________________\n",
            "conv2d_2 (Conv2D)            (None, 112, 112, 128)     73856     \n",
            "_________________________________________________________________\n",
            "conv2d_3 (Conv2D)            (None, 112, 112, 128)     147584    \n",
            "_________________________________________________________________\n",
            "max_pooling2d_1 (MaxPooling2 (None, 56, 56, 128)       0         \n",
            "_________________________________________________________________\n",
            "conv2d_4 (Conv2D)            (None, 56, 56, 256)       295168    \n",
            "_________________________________________________________________\n",
            "conv2d_5 (Conv2D)            (None, 56, 56, 256)       590080    \n",
            "_________________________________________________________________\n",
            "conv2d_6 (Conv2D)            (None, 56, 56, 256)       590080    \n",
            "_________________________________________________________________\n",
            "max_pooling2d_2 (MaxPooling2 (None, 28, 28, 256)       0         \n",
            "_________________________________________________________________\n",
            "conv2d_7 (Conv2D)            (None, 28, 28, 512)       1180160   \n",
            "_________________________________________________________________\n",
            "conv2d_8 (Conv2D)            (None, 28, 28, 512)       2359808   \n",
            "_________________________________________________________________\n",
            "conv2d_9 (Conv2D)            (None, 28, 28, 512)       2359808   \n",
            "_________________________________________________________________\n",
            "max_pooling2d_3 (MaxPooling2 (None, 14, 14, 512)       0         \n",
            "_________________________________________________________________\n",
            "conv2d_10 (Conv2D)           (None, 14, 14, 512)       2359808   \n",
            "_________________________________________________________________\n",
            "conv2d_11 (Conv2D)           (None, 14, 14, 512)       2359808   \n",
            "_________________________________________________________________\n",
            "conv2d_12 (Conv2D)           (None, 14, 14, 512)       2359808   \n",
            "_________________________________________________________________\n",
            "max_pooling2d_4 (MaxPooling2 (None, 7, 7, 512)         0         \n",
            "_________________________________________________________________\n",
            "flatten (Flatten)            (None, 25088)             0         \n",
            "_________________________________________________________________\n",
            "dense (Dense)                (None, 4096)              102764544 \n",
            "_________________________________________________________________\n",
            "dropout (Dropout)            (None, 4096)              0         \n",
            "_________________________________________________________________\n",
            "dense_1 (Dense)              (None, 4096)              16781312  \n",
            "_________________________________________________________________\n",
            "dropout_1 (Dropout)          (None, 4096)              0         \n",
            "_________________________________________________________________\n",
            "dense_2 (Dense)              (None, 2622)              10742334  \n",
            "=================================================================\n",
            "Total params: 145,002,878\n",
            "Trainable params: 145,002,878\n",
            "Non-trainable params: 0\n",
            "_________________________________________________________________\n"
          ],
          "name": "stdout"
        }
      ]
    }
  ]
}